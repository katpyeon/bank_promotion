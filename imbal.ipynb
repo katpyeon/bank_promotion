{
 "cells": [
  {
   "cell_type": "code",
   "execution_count": 83,
   "metadata": {},
   "outputs": [],
   "source": [
    "import pandas as pd \n",
    "import numpy as np \n",
    "import seaborn as sns \n",
    "import matplotlib.pyplot as plt\n",
    "\n",
    "plt.style.use(\"ggplot\")"
   ]
  },
  {
   "cell_type": "code",
   "execution_count": 86,
   "metadata": {},
   "outputs": [
    {
     "data": {
      "text/html": [
       "<div>\n",
       "<style scoped>\n",
       "    .dataframe tbody tr th:only-of-type {\n",
       "        vertical-align: middle;\n",
       "    }\n",
       "\n",
       "    .dataframe tbody tr th {\n",
       "        vertical-align: top;\n",
       "    }\n",
       "\n",
       "    .dataframe thead th {\n",
       "        text-align: right;\n",
       "    }\n",
       "</style>\n",
       "<table border=\"1\" class=\"dataframe\">\n",
       "  <thead>\n",
       "    <tr style=\"text-align: right;\">\n",
       "      <th></th>\n",
       "      <th>age</th>\n",
       "      <th>job</th>\n",
       "      <th>marital</th>\n",
       "      <th>education</th>\n",
       "      <th>default</th>\n",
       "      <th>balance</th>\n",
       "      <th>housing</th>\n",
       "      <th>loan</th>\n",
       "      <th>contact</th>\n",
       "      <th>day</th>\n",
       "      <th>month</th>\n",
       "      <th>duration</th>\n",
       "      <th>campaign</th>\n",
       "      <th>pdays</th>\n",
       "      <th>previous</th>\n",
       "      <th>poutcome</th>\n",
       "      <th>label</th>\n",
       "    </tr>\n",
       "  </thead>\n",
       "  <tbody>\n",
       "    <tr>\n",
       "      <th>0</th>\n",
       "      <td>34</td>\n",
       "      <td>blue-collar</td>\n",
       "      <td>married</td>\n",
       "      <td>primary</td>\n",
       "      <td>no</td>\n",
       "      <td>358</td>\n",
       "      <td>yes</td>\n",
       "      <td>no</td>\n",
       "      <td>unknown</td>\n",
       "      <td>23</td>\n",
       "      <td>may</td>\n",
       "      <td>100</td>\n",
       "      <td>4</td>\n",
       "      <td>-1</td>\n",
       "      <td>0</td>\n",
       "      <td>unknown</td>\n",
       "      <td>0</td>\n",
       "    </tr>\n",
       "    <tr>\n",
       "      <th>1</th>\n",
       "      <td>33</td>\n",
       "      <td>blue-collar</td>\n",
       "      <td>married</td>\n",
       "      <td>secondary</td>\n",
       "      <td>no</td>\n",
       "      <td>-53</td>\n",
       "      <td>yes</td>\n",
       "      <td>no</td>\n",
       "      <td>unknown</td>\n",
       "      <td>20</td>\n",
       "      <td>may</td>\n",
       "      <td>172</td>\n",
       "      <td>1</td>\n",
       "      <td>-1</td>\n",
       "      <td>0</td>\n",
       "      <td>unknown</td>\n",
       "      <td>0</td>\n",
       "    </tr>\n",
       "    <tr>\n",
       "      <th>2</th>\n",
       "      <td>32</td>\n",
       "      <td>management</td>\n",
       "      <td>single</td>\n",
       "      <td>tertiary</td>\n",
       "      <td>no</td>\n",
       "      <td>207</td>\n",
       "      <td>yes</td>\n",
       "      <td>no</td>\n",
       "      <td>cellular</td>\n",
       "      <td>2</td>\n",
       "      <td>feb</td>\n",
       "      <td>56</td>\n",
       "      <td>1</td>\n",
       "      <td>-1</td>\n",
       "      <td>0</td>\n",
       "      <td>unknown</td>\n",
       "      <td>0</td>\n",
       "    </tr>\n",
       "    <tr>\n",
       "      <th>3</th>\n",
       "      <td>37</td>\n",
       "      <td>blue-collar</td>\n",
       "      <td>divorced</td>\n",
       "      <td>secondary</td>\n",
       "      <td>no</td>\n",
       "      <td>638</td>\n",
       "      <td>yes</td>\n",
       "      <td>no</td>\n",
       "      <td>cellular</td>\n",
       "      <td>8</td>\n",
       "      <td>may</td>\n",
       "      <td>326</td>\n",
       "      <td>1</td>\n",
       "      <td>326</td>\n",
       "      <td>2</td>\n",
       "      <td>success</td>\n",
       "      <td>0</td>\n",
       "    </tr>\n",
       "    <tr>\n",
       "      <th>4</th>\n",
       "      <td>33</td>\n",
       "      <td>housemaid</td>\n",
       "      <td>married</td>\n",
       "      <td>secondary</td>\n",
       "      <td>no</td>\n",
       "      <td>826</td>\n",
       "      <td>yes</td>\n",
       "      <td>no</td>\n",
       "      <td>cellular</td>\n",
       "      <td>11</td>\n",
       "      <td>may</td>\n",
       "      <td>256</td>\n",
       "      <td>1</td>\n",
       "      <td>-1</td>\n",
       "      <td>0</td>\n",
       "      <td>unknown</td>\n",
       "      <td>0</td>\n",
       "    </tr>\n",
       "  </tbody>\n",
       "</table>\n",
       "</div>"
      ],
      "text/plain": [
       "   age          job   marital  education default  balance housing loan  \\\n",
       "0   34  blue-collar   married    primary      no      358     yes   no   \n",
       "1   33  blue-collar   married  secondary      no      -53     yes   no   \n",
       "2   32   management    single   tertiary      no      207     yes   no   \n",
       "3   37  blue-collar  divorced  secondary      no      638     yes   no   \n",
       "4   33    housemaid   married  secondary      no      826     yes   no   \n",
       "\n",
       "    contact  day month  duration  campaign  pdays  previous poutcome  label  \n",
       "0   unknown   23   may       100         4     -1         0  unknown      0  \n",
       "1   unknown   20   may       172         1     -1         0  unknown      0  \n",
       "2  cellular    2   feb        56         1     -1         0  unknown      0  \n",
       "3  cellular    8   may       326         1    326         2  success      0  \n",
       "4  cellular   11   may       256         1     -1         0  unknown      0  "
      ]
     },
     "metadata": {},
     "output_type": "display_data"
    },
    {
     "name": "stdout",
     "output_type": "stream",
     "text": [
      "<class 'pandas.core.frame.DataFrame'>\n",
      "RangeIndex: 31647 entries, 0 to 31646\n",
      "Data columns (total 17 columns):\n",
      " #   Column     Non-Null Count  Dtype \n",
      "---  ------     --------------  ----- \n",
      " 0   age        31647 non-null  int64 \n",
      " 1   job        31647 non-null  object\n",
      " 2   marital    31647 non-null  object\n",
      " 3   education  31647 non-null  object\n",
      " 4   default    31647 non-null  object\n",
      " 5   balance    31647 non-null  int64 \n",
      " 6   housing    31647 non-null  object\n",
      " 7   loan       31647 non-null  object\n",
      " 8   contact    31647 non-null  object\n",
      " 9   day        31647 non-null  int64 \n",
      " 10  month      31647 non-null  object\n",
      " 11  duration   31647 non-null  int64 \n",
      " 12  campaign   31647 non-null  int64 \n",
      " 13  pdays      31647 non-null  int64 \n",
      " 14  previous   31647 non-null  int64 \n",
      " 15  poutcome   31647 non-null  object\n",
      " 16  label      31647 non-null  int64 \n",
      "dtypes: int64(8), object(9)\n",
      "memory usage: 4.1+ MB\n"
     ]
    },
    {
     "data": {
      "text/plain": [
       "None"
      ]
     },
     "metadata": {},
     "output_type": "display_data"
    },
    {
     "data": {
      "text/html": [
       "<div>\n",
       "<style scoped>\n",
       "    .dataframe tbody tr th:only-of-type {\n",
       "        vertical-align: middle;\n",
       "    }\n",
       "\n",
       "    .dataframe tbody tr th {\n",
       "        vertical-align: top;\n",
       "    }\n",
       "\n",
       "    .dataframe thead th {\n",
       "        text-align: right;\n",
       "    }\n",
       "</style>\n",
       "<table border=\"1\" class=\"dataframe\">\n",
       "  <thead>\n",
       "    <tr style=\"text-align: right;\">\n",
       "      <th></th>\n",
       "      <th>age</th>\n",
       "      <th>balance</th>\n",
       "      <th>day</th>\n",
       "      <th>duration</th>\n",
       "      <th>campaign</th>\n",
       "      <th>pdays</th>\n",
       "      <th>previous</th>\n",
       "      <th>label</th>\n",
       "    </tr>\n",
       "  </thead>\n",
       "  <tbody>\n",
       "    <tr>\n",
       "      <th>count</th>\n",
       "      <td>31647.000000</td>\n",
       "      <td>31647.000000</td>\n",
       "      <td>31647.000000</td>\n",
       "      <td>31647.000000</td>\n",
       "      <td>31647.000000</td>\n",
       "      <td>31647.000000</td>\n",
       "      <td>31647.000000</td>\n",
       "      <td>31647.000000</td>\n",
       "    </tr>\n",
       "    <tr>\n",
       "      <th>mean</th>\n",
       "      <td>40.916833</td>\n",
       "      <td>1370.050084</td>\n",
       "      <td>15.818277</td>\n",
       "      <td>258.088824</td>\n",
       "      <td>2.752615</td>\n",
       "      <td>40.023604</td>\n",
       "      <td>0.575062</td>\n",
       "      <td>0.116978</td>\n",
       "    </tr>\n",
       "    <tr>\n",
       "      <th>std</th>\n",
       "      <td>10.621773</td>\n",
       "      <td>3122.054996</td>\n",
       "      <td>8.315467</td>\n",
       "      <td>255.737568</td>\n",
       "      <td>3.080952</td>\n",
       "      <td>100.154518</td>\n",
       "      <td>2.433034</td>\n",
       "      <td>0.321399</td>\n",
       "    </tr>\n",
       "    <tr>\n",
       "      <th>min</th>\n",
       "      <td>18.000000</td>\n",
       "      <td>-4057.000000</td>\n",
       "      <td>1.000000</td>\n",
       "      <td>0.000000</td>\n",
       "      <td>1.000000</td>\n",
       "      <td>-1.000000</td>\n",
       "      <td>0.000000</td>\n",
       "      <td>0.000000</td>\n",
       "    </tr>\n",
       "    <tr>\n",
       "      <th>25%</th>\n",
       "      <td>33.000000</td>\n",
       "      <td>73.000000</td>\n",
       "      <td>8.000000</td>\n",
       "      <td>103.000000</td>\n",
       "      <td>1.000000</td>\n",
       "      <td>-1.000000</td>\n",
       "      <td>0.000000</td>\n",
       "      <td>0.000000</td>\n",
       "    </tr>\n",
       "    <tr>\n",
       "      <th>50%</th>\n",
       "      <td>39.000000</td>\n",
       "      <td>451.000000</td>\n",
       "      <td>16.000000</td>\n",
       "      <td>180.000000</td>\n",
       "      <td>2.000000</td>\n",
       "      <td>-1.000000</td>\n",
       "      <td>0.000000</td>\n",
       "      <td>0.000000</td>\n",
       "    </tr>\n",
       "    <tr>\n",
       "      <th>75%</th>\n",
       "      <td>48.000000</td>\n",
       "      <td>1418.500000</td>\n",
       "      <td>21.000000</td>\n",
       "      <td>320.000000</td>\n",
       "      <td>3.000000</td>\n",
       "      <td>-1.000000</td>\n",
       "      <td>0.000000</td>\n",
       "      <td>0.000000</td>\n",
       "    </tr>\n",
       "    <tr>\n",
       "      <th>max</th>\n",
       "      <td>95.000000</td>\n",
       "      <td>102127.000000</td>\n",
       "      <td>31.000000</td>\n",
       "      <td>3881.000000</td>\n",
       "      <td>63.000000</td>\n",
       "      <td>854.000000</td>\n",
       "      <td>275.000000</td>\n",
       "      <td>1.000000</td>\n",
       "    </tr>\n",
       "  </tbody>\n",
       "</table>\n",
       "</div>"
      ],
      "text/plain": [
       "                age        balance           day      duration      campaign  \\\n",
       "count  31647.000000   31647.000000  31647.000000  31647.000000  31647.000000   \n",
       "mean      40.916833    1370.050084     15.818277    258.088824      2.752615   \n",
       "std       10.621773    3122.054996      8.315467    255.737568      3.080952   \n",
       "min       18.000000   -4057.000000      1.000000      0.000000      1.000000   \n",
       "25%       33.000000      73.000000      8.000000    103.000000      1.000000   \n",
       "50%       39.000000     451.000000     16.000000    180.000000      2.000000   \n",
       "75%       48.000000    1418.500000     21.000000    320.000000      3.000000   \n",
       "max       95.000000  102127.000000     31.000000   3881.000000     63.000000   \n",
       "\n",
       "              pdays      previous         label  \n",
       "count  31647.000000  31647.000000  31647.000000  \n",
       "mean      40.023604      0.575062      0.116978  \n",
       "std      100.154518      2.433034      0.321399  \n",
       "min       -1.000000      0.000000      0.000000  \n",
       "25%       -1.000000      0.000000      0.000000  \n",
       "50%       -1.000000      0.000000      0.000000  \n",
       "75%       -1.000000      0.000000      0.000000  \n",
       "max      854.000000    275.000000      1.000000  "
      ]
     },
     "metadata": {},
     "output_type": "display_data"
    },
    {
     "data": {
      "text/plain": [
       "age          0\n",
       "job          0\n",
       "marital      0\n",
       "education    0\n",
       "default      0\n",
       "balance      0\n",
       "housing      0\n",
       "loan         0\n",
       "contact      0\n",
       "day          0\n",
       "month        0\n",
       "duration     0\n",
       "campaign     0\n",
       "pdays        0\n",
       "previous     0\n",
       "poutcome     0\n",
       "label        0\n",
       "dtype: int64"
      ]
     },
     "metadata": {},
     "output_type": "display_data"
    }
   ],
   "source": [
    "df = pd.read_csv(\"./data/train.csv\") \n",
    "\n",
    "# ID 컬럼 미사용\n",
    "df.drop(columns=[\"ID\"], inplace=True)\n",
    "\n",
    "display(df.head())\n",
    "display(df.info())\n",
    "display(df.describe())\n",
    "display(df.isnull().sum())"
   ]
  },
  {
   "cell_type": "code",
   "execution_count": 88,
   "metadata": {},
   "outputs": [],
   "source": [
    "def split_xy(df):\n",
    "    X = df.iloc[:, :-1]  \n",
    "    y = df.iloc[:, -1]   \n",
    "    return (X, y)\n"
   ]
  },
  {
   "cell_type": "markdown",
   "metadata": {},
   "source": [
    "### 오버샘플링 전 Label 분포 확인"
   ]
  },
  {
   "cell_type": "code",
   "execution_count": 90,
   "metadata": {},
   "outputs": [
    {
     "data": {
      "image/png": "[encoded data removed]",
      "text/plain": [
       "<Figure size 640x480 with 1 Axes>"
      ]
     },
     "metadata": {},
     "output_type": "display_data"
    }
   ],
   "source": [
    "df = pd.read_csv(\"./data/train.csv\")\n",
    "df.drop(columns=[\"ID\"], inplace=True)\n",
    "\n",
    "sns.countplot(x=\"label\", data=df);\n",
    "plt.show()\n"
   ]
  },
  {
   "cell_type": "markdown",
   "metadata": {},
   "source": [
    "### 오버샘플링 후 Label 분포 확인"
   ]
  },
  {
   "cell_type": "code",
   "execution_count": 94,
   "metadata": {},
   "outputs": [
    {
     "data": {
      "image/png": "[encoded data removed]",
      "text/plain": [
       "<Figure size 640x480 with 1 Axes>"
      ]
     },
     "metadata": {},
     "output_type": "display_data"
    }
   ],
   "source": [
    "from imblearn.over_sampling import SMOTE\n",
    "\n",
    "df = pd.read_csv(\"./data/train.csv\")\n",
    "df.drop(columns=[\"ID\"], inplace=True)\n",
    "\n",
    "X, y = split_xy(df)\n",
    "\n",
    "# 샘플링 하려면 범주형 처리 필요함 \n",
    "X =  pd.get_dummies(X)\n",
    "\n",
    "smote = SMOTE(random_state=42)\n",
    "X_resample, y_resampled = smote.fit_resample(X, y)\n",
    "\n",
    "sns.countplot(x=y_resampled)\n",
    "plt.show()"
   ]
  },
  {
   "cell_type": "markdown",
   "metadata": {},
   "source": [
    "### 오버샘플링 전 데이터로 학습 및 평가\n",
    "- 평가한 데이터는 오버샘플링 후 데이터로 학습한 모델에서 교차 평가 예정"
   ]
  },
  {
   "cell_type": "code",
   "execution_count": 125,
   "metadata": {},
   "outputs": [
    {
     "name": "stdout",
     "output_type": "stream",
     "text": [
      "              precision    recall  f1-score   support\n",
      "\n",
      "           0       0.91      0.98      0.94      8384\n",
      "           1       0.64      0.29      0.40      1111\n",
      "\n",
      "    accuracy                           0.90      9495\n",
      "   macro avg       0.78      0.63      0.67      9495\n",
      "weighted avg       0.88      0.90      0.88      9495\n",
      "\n"
     ]
    }
   ],
   "source": [
    "from sklearn.ensemble import AdaBoostClassifier\n",
    "from sklearn.metrics import classification_report\n",
    "from sklearn.model_selection import train_test_split\n",
    "\n",
    "df = pd.read_csv('./data/train.csv')\n",
    "#필요 없는 번수 제거\n",
    "df.drop(columns=[\"ID\"], inplace=True)\n",
    "\n",
    "# 범주형 변수 인코딩\n",
    "X = pd.get_dummies(df.iloc[:, :-1])  \n",
    "y = df.iloc[:, -1]  \n",
    "\n",
    "X_train, X_test, y_train, y_test = train_test_split(X, y, test_size=0.3, stratify=y, random_state=42)\n",
    "\n",
    "model = AdaBoostClassifier(n_estimators=50, learning_rate=1, algorithm='SAMME', random_state=42)\n",
    "\n",
    "model.fit(X_train, y_train)\n",
    "\n",
    "y_pred = model.predict(X_test)\n",
    "\n",
    "print(classification_report(y_test, y_pred))"
   ]
  },
  {
   "cell_type": "markdown",
   "metadata": {},
   "source": [
    "### 오버샘플링 후 데이터로 학습 및 평가"
   ]
  },
  {
   "cell_type": "code",
   "execution_count": 126,
   "metadata": {},
   "outputs": [
    {
     "name": "stdout",
     "output_type": "stream",
     "text": [
      "              precision    recall  f1-score   support\n",
      "\n",
      "           0       0.91      0.89      0.90      8330\n",
      "           1       0.89      0.91      0.90      8437\n",
      "\n",
      "    accuracy                           0.90     16767\n",
      "   macro avg       0.90      0.90      0.90     16767\n",
      "weighted avg       0.90      0.90      0.90     16767\n",
      "\n"
     ]
    }
   ],
   "source": [
    "from sklearn.ensemble import AdaBoostClassifier\n",
    "from sklearn.metrics import classification_report\n",
    "from sklearn.model_selection import train_test_split\n",
    "\n",
    "df_resample = pd.read_csv(\"./data/train.csv\")\n",
    "df_resample.drop(columns=[\"ID\"], inplace=True)\n",
    "\n",
    "X = pd.get_dummies(df_resample.iloc[:, :-1])  \n",
    "y = df_resample.iloc[:, -1]   \n",
    "\n",
    "smote = SMOTE(random_state=42)\n",
    "X_resample, y_resampled = smote.fit_resample(X, y)\n",
    "\n",
    "X_train_resampled, X_test_resampled, y_train_resampled, y_test_resample = train_test_split(X_resample, y_resampled, test_size=0.3, random_state=42)\n",
    "\n",
    "model_smote = AdaBoostClassifier(n_estimators=50, learning_rate=1, algorithm='SAMME', random_state=42)\n",
    "model_smote.fit(X_train_resampled, y_train_resampled)\n",
    "\n",
    "y_resampled_pred = model_smote.predict(X_test_resampled)\n",
    "\n",
    "print(classification_report(y_test_resample, y_resampled_pred))"
   ]
  },
  {
   "cell_type": "markdown",
   "metadata": {},
   "source": [
    "### 오버샘플링 데이터로 학습한 모델에 오버샘플링 안된 테스트 데이터로 평가"
   ]
  },
  {
   "cell_type": "code",
   "execution_count": 127,
   "metadata": {},
   "outputs": [
    {
     "name": "stdout",
     "output_type": "stream",
     "text": [
      "              precision    recall  f1-score   support\n",
      "\n",
      "           0       0.95      0.89      0.92      8384\n",
      "           1       0.42      0.62      0.50      1111\n",
      "\n",
      "    accuracy                           0.86      9495\n",
      "   macro avg       0.68      0.75      0.71      9495\n",
      "weighted avg       0.89      0.86      0.87      9495\n",
      "\n"
     ]
    }
   ],
   "source": [
    "from sklearn.metrics import classification_report\n",
    "\n",
    "y_pred = model_smote.predict(X_test)\n",
    "print(classification_report(y_test, y_pred))"
   ]
  }
 ],
 "metadata": {
  "kernelspec": {
   "display_name": "base",
   "language": "python",
   "name": "python3"
  },
  "language_info": {
   "codemirror_mode": {
    "name": "ipython",
    "version": 3
   },
   "file_extension": ".py",
   "mimetype": "text/x-python",
   "name": "python",
   "nbconvert_exporter": "python",
   "pygments_lexer": "ipython3",
   "version": "3.12.7"
  }
 },
 "nbformat": 4,
 "nbformat_minor": 2
}
